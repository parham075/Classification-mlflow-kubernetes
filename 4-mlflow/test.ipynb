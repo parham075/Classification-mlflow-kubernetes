{
 "cells": [
  {
   "cell_type": "code",
   "execution_count": 3,
   "metadata": {},
   "outputs": [
    {
     "name": "stdout",
     "output_type": "stream",
     "text": [
      "Objects in 'mlflow':\n"
     ]
    }
   ],
   "source": [
    "from minio import Minio\n",
    "#from minio.error import ResponseError\n",
    "\n",
    "# Minio configuration\n",
    "minio_endpoint = \"localhost:9000\"   # Replace with your Minio service endpoint\n",
    "\n",
    "\n",
    "# minio_access_key = \"bOtcUxnnC3TTbdZYxwkE\"\n",
    "# minio_secret_key = \"Oq8udlsqAEJFQAiXybGd95iRa3Zlsv2xOmbuY9Xi\"\n",
    "\n",
    "minio_access_key = \"minioadmin\"\n",
    "minio_secret_key = \"minioadmin\"\n",
    "\n",
    "minio_secure = False  # Set to True if using HTTPS\n",
    "# MLflow configuration\n",
    "mlflow_bucket = \"mlflow\"\n",
    "\n",
    "# Initialize Minio client\n",
    "minio_client = Minio(minio_endpoint, access_key=minio_access_key, secret_key=minio_secret_key, secure=minio_secure)\n",
    "\n",
    "def check_minio_bucket(bucket_name):\n",
    "    try:\n",
    "        # Check if the bucket exists\n",
    "        if not minio_client.bucket_exists(bucket_name):\n",
    "            print(f\"Bucket '{bucket_name}' does not exist.\")\n",
    "            return\n",
    "\n",
    "        # List objects in the bucket\n",
    "        objects = minio_client.list_objects(bucket_name)\n",
    "        print(f\"Objects in '{bucket_name}':\")\n",
    "        for obj in objects:\n",
    "            print(f\" - {obj.object_name}\")\n",
    "\n",
    "    except Exception as e:\n",
    "        print(f\"Error: {e}\")\n",
    "\n",
    "if __name__ == \"__main__\":\n",
    "    check_minio_bucket(mlflow_bucket)\n"
   ]
  },
  {
   "cell_type": "markdown",
   "metadata": {},
   "source": [
    "## Create a new Bucket on MinIO"
   ]
  },
  {
   "cell_type": "code",
   "execution_count": 9,
   "metadata": {},
   "outputs": [
    {
     "name": "stdout",
     "output_type": "stream",
     "text": [
      "Bucket 'new-mlflow' created successfully.\n"
     ]
    }
   ],
   "source": [
    "from minio import Minio\n",
    "from minio.error import S3Error\n",
    "\n",
    "# Replace with your Minio credentials and Minio service IP\n",
    "minio_endpoint = \"localhost:9000\"  # Use the default API port (9000)\n",
    "bucket_name = \"mlflow\"\n",
    "\n",
    "minio_access_key = \"minioadmin\"\n",
    "minio_secret_key = \"minioadmin\"\n",
    "\n",
    "# Initialize Minio client\n",
    "minio_client = Minio(minio_endpoint, access_key=minio_access_key, secret_key=minio_secret_key, secure=False)\n",
    "\n",
    "# Create a bucket\n",
    "try:\n",
    "    minio_client.make_bucket(bucket_name)\n",
    "    print(f\"Bucket '{bucket_name}' created successfully.\")\n",
    "except S3Error as e:\n",
    "    if e.code == \"BucketAlreadyOwnedByYou\":\n",
    "        print(f\"Bucket '{bucket_name}' already exists.\")\n",
    "    else:\n",
    "        print(f\"Error creating bucket: {e}\")\n"
   ]
  },
  {
   "cell_type": "code",
   "execution_count": 4,
   "metadata": {},
   "outputs": [
    {
     "name": "stdout",
     "output_type": "stream",
     "text": [
      "Score: 0.75\n",
      "Model saved in run 32d0536867384f68abcb222562ccf980\n"
     ]
    },
    {
     "name": "stderr",
     "output_type": "stream",
     "text": [
      "/home/t2/micromamba/envs/env_5/lib/python3.10/site-packages/_distutils_hack/__init__.py:26: UserWarning: Setuptools is replacing distutils.\n",
      "  warnings.warn(\"Setuptools is replacing distutils.\")\n"
     ]
    }
   ],
   "source": [
    "import numpy as np\n",
    "from sklearn.linear_model import LogisticRegression\n",
    "import os\n",
    "import mlflow\n",
    "import mlflow.sklearn\n",
    "from mlflow.models import infer_signature\n",
    "\n",
    "# this needs to map the mlflow pod internal address \n",
    "# and not use the local MLFLOW_TRACKING_URI set by \n",
    "# the local mlflow process\n",
    "os.environ[\"MLFLOW_TRACKING_URI\"] = \"http://127.0.0.1:5000\"\n",
    "\n",
    "# minio_access_id = os.environ.get(\"AWS_ACCESS_KEY_ID\")\n",
    "# minio_secret_access_key = os.environ.get(\"AWS_SECRET_ACCESS_KEY\") \n",
    "# print(minio_access_id,os.environ.get(\"AWS_SECRET_ACCESS_KEY\"))\n",
    "\n",
    "if __name__ == \"__main__\":\n",
    "    mlflow.set_tracking_uri(\"http://127.0.0.1:5000\")\n",
    "    mlflow.end_run()\n",
    "    with mlflow.start_run():\n",
    "        \n",
    "        X = np.array([-1, 1, -1, 2, 3, 1, -1, 1, 0, 2, 3, 1, ]).reshape(-1, 1)\n",
    "        y = np.array([0, 0, 0, 1, 0, 0, 0, 0, 0, 1, 1, 0])\n",
    "        lr = LogisticRegression()\n",
    "        lr.fit(X, y)\n",
    "        score = lr.score(X, y)\n",
    "        print(f\"Score: {score}\")\n",
    "        mlflow.log_metric(\"score\", score)\n",
    "        predictions = lr.predict(X)\n",
    "        signature = infer_signature(X, predictions)\n",
    "        mlflow.sklearn.log_model(lr, \"model\")\n",
    "        print(f\"Model saved in run {mlflow.active_run().info.run_uuid}\")"
   ]
  }
 ],
 "metadata": {
  "kernelspec": {
   "display_name": "kidney",
   "language": "python",
   "name": "python3"
  },
  "language_info": {
   "codemirror_mode": {
    "name": "ipython",
    "version": 3
   },
   "file_extension": ".py",
   "mimetype": "text/x-python",
   "name": "python",
   "nbconvert_exporter": "python",
   "pygments_lexer": "ipython3",
   "version": "3.10.13"
  }
 },
 "nbformat": 4,
 "nbformat_minor": 2
}
